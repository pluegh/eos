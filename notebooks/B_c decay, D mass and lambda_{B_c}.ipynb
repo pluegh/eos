{
 "cells": [
  {
   "cell_type": "markdown",
   "metadata": {},
   "source": [
    "# $B_c$ LCSR: $D$-mass prediction"
   ]
  },
  {
   "cell_type": "code",
   "execution_count": 1,
   "metadata": {
    "scrolled": true
   },
   "outputs": [
    {
     "name": "stdout",
     "output_type": "stream",
     "text": [
      "eos built at Sat Feb 13 19:30:19 2021\n"
     ]
    }
   ],
   "source": [
    "import eos\n",
    "import numpy as np\n",
    "\n",
    "import os\n",
    "import time\n",
    "def build_time():\n",
    "    return \"eos built at \" + time.ctime(os.path.getmtime(eos.__file__))\n",
    "\n",
    "print(build_time())"
   ]
  },
  {
   "cell_type": "markdown",
   "metadata": {},
   "source": [
    "## Interesting case: $B_c \\to D$ LCSRs"
   ]
  },
  {
   "cell_type": "code",
   "execution_count": 8,
   "metadata": {
    "scrolled": true
   },
   "outputs": [
    {
     "name": "stdout",
     "output_type": "stream",
     "text": [
      ">>>  positive solution\n"
     ]
    },
    {
     "data": {
      "text/html": [
       "\n",
       "        <table>\n",
       "            <tr>\n",
       "                <th>B_c->D::f_+[s^1/s^0](q2)</th>\n",
       "                <td>(eos.Observable)</td>\n",
       "            </tr>\n",
       "            <tr>\n",
       "                <th>current value</th>\n",
       "                <td><tt>19.64</tt></td>\n",
       "            </tr>\n",
       "        </table>"
      ],
      "text/plain": [
       "<_eos.Observable at 0x7f4ca907d348>"
      ]
     },
     "metadata": {},
     "output_type": "display_data"
    },
    {
     "data": {
      "text/html": [
       "\n",
       "        <table>\n",
       "            <tr>\n",
       "                <th>B_c->D::f_0[s^1/s^0](q2)</th>\n",
       "                <td>(eos.Observable)</td>\n",
       "            </tr>\n",
       "            <tr>\n",
       "                <th>current value</th>\n",
       "                <td><tt>2.966</tt></td>\n",
       "            </tr>\n",
       "        </table>"
      ],
      "text/plain": [
       "<_eos.Observable at 0x7f4ca907d6b8>"
      ]
     },
     "metadata": {},
     "output_type": "display_data"
    },
    {
     "data": {
      "text/plain": [
       "None"
      ]
     },
     "metadata": {},
     "output_type": "display_data"
    },
    {
     "name": "stdout",
     "output_type": "stream",
     "text": [
      ">>>  negative solution\n"
     ]
    },
    {
     "data": {
      "text/html": [
       "\n",
       "        <table>\n",
       "            <tr>\n",
       "                <th>B_c->D::f_+[s^1/s^0](q2)</th>\n",
       "                <td>(eos.Observable)</td>\n",
       "            </tr>\n",
       "            <tr>\n",
       "                <th>current value</th>\n",
       "                <td><tt>-6.579</tt></td>\n",
       "            </tr>\n",
       "        </table>"
      ],
      "text/plain": [
       "<_eos.Observable at 0x7f4c5c4e4e48>"
      ]
     },
     "metadata": {},
     "output_type": "display_data"
    },
    {
     "data": {
      "text/html": [
       "\n",
       "        <table>\n",
       "            <tr>\n",
       "                <th>B_c->D::f_0[s^1/s^0](q2)</th>\n",
       "                <td>(eos.Observable)</td>\n",
       "            </tr>\n",
       "            <tr>\n",
       "                <th>current value</th>\n",
       "                <td><tt>8.517</tt></td>\n",
       "            </tr>\n",
       "        </table>"
      ],
      "text/plain": [
       "<_eos.Observable at 0x7f4ca907d978>"
      ]
     },
     "metadata": {},
     "output_type": "display_data"
    },
    {
     "data": {
      "text/plain": [
       "None"
      ]
     },
     "metadata": {},
     "output_type": "display_data"
    }
   ],
   "source": [
    "def set_parameters(params, dict):\n",
    "    for key, value in dict.items():\n",
    "        eos.Parameters.set(parameters, key, value)\n",
    "        \n",
    "\n",
    "model_parameters = {\"B_c::delta_N\": 0.52, \"B_c::omega_1_plus\": 1.71, 'B_c->D::M^2@B-LCSR': 4.5}\n",
    "model_parameters.update({'B_c->D::s_0^+/-,0@B-LCSR': 6, 'B_c->D::s_0^+,0@B-LCSR': 6})\n",
    "\n",
    "runs = (\n",
    "    {\n",
    "        'name': 'positive solution',\n",
    "        'params' : model_parameters,\n",
    "        'options': 'solution=+'\n",
    "    },\n",
    "    {\n",
    "        'name': 'negative solution',\n",
    "        'params' : model_parameters,\n",
    "        'options': 'solution=-'\n",
    "    },\n",
    ")\n",
    "\n",
    "parameters = eos.Parameters.Defaults()\n",
    "kinematics = eos.Kinematics(q2=-15)\n",
    "\n",
    "for run in runs:\n",
    "    print('>>> ', run['name'])\n",
    "    set_parameters(parameters, run['params'])\n",
    "    obs = (\n",
    "        eos.Observable.make('B_c->D::f_+[s^1/s^0](q2);'+run['options'], parameters, kinematics, eos.Options()),\n",
    "        eos.Observable.make('B_c->D::f_0[s^1/s^0](q2);'+run['options'], parameters, kinematics, eos.Options()),\n",
    "        eos.Observable.make('B_c->D*::f_0[s^1/s^0](q2);'+run['options'], parameters, kinematics, eos.Options()),\n",
    "    )\n",
    "    display(*obs)"
   ]
  },
  {
   "cell_type": "markdown",
   "metadata": {},
   "source": [
    "## Mass predictor and $\\omega_0$ -- model test"
   ]
  },
  {
   "cell_type": "code",
   "execution_count": 3,
   "metadata": {},
   "outputs": [
    {
     "name": "stderr",
     "output_type": "stream",
     "text": [
      "findfont: Font family ['serif'] not found. Falling back to DejaVu Sans.\n"
     ]
    },
    {
     "data": {
      "image/png": "[encoded data removed]",
      "text/plain": [
       "<Figure size 432x288 with 1 Axes>"
      ]
     },
     "metadata": {},
     "output_type": "display_data"
    },
    {
     "name": "stdout",
     "output_type": "stream",
     "text": [
      "eos built at Sat Feb 13 19:30:19 2021\n"
     ]
    }
   ],
   "source": [
    "res = 1.869**2\n",
    "res_err = 10 / 100 * res\n",
    "\n",
    "model_parameters = {\n",
    "    \"B_c::delta_N\": 0.52, \"B_c::omega_1_plus\": 1.71, \n",
    "    'B_c->D::M^2@B-LCSR': 4.5,\n",
    "    'B_c->D::s_0^+,0@B-LCSR': 6.0\n",
    "}\n",
    "\n",
    "x_range = [0.01, 3.5]\n",
    "plot_args = {\n",
    "    'plot': {\n",
    "        'x': { 'label': r'$\\omega_0$', 'unit': r'$\\textnormal{GeV}$', 'range': x_range, 'format': '${x:.1f}$'},\n",
    "        'y': { 'label': r'$s^1/s^0$', 'range': [-5,  5] },\n",
    "        'legend': { 'location': 'lower right' }\n",
    "    },\n",
    "    'contents': [\n",
    "        {\n",
    "            'label': r'$s_1/s_0$, $B_c\\to D$, $f_+$, pos. sol.',\n",
    "            'type': 'observable',\n",
    "            'observable': 'B_c->D::f_+[s^1/s^0](q2);solution=+',\n",
    "            'kinematics': {'q2': -5},\n",
    "            'parameter': 'B_c::omega_1_plus',\n",
    "            'parameters': model_parameters,\n",
    "            'range': x_range,\n",
    "        },\n",
    "#         {\n",
    "#             'label': r'$s_1/s_0$, $B_c\\to D$, $f_0$, pos. sol.',\n",
    "#             'type': 'observable',\n",
    "#             'observable': 'B_c->D::f_0[s^1/s^0](q2);solution=+',\n",
    "#             'kinematics': {'q2': 0},\n",
    "#             'parameter': 'B_c::omega_0',\n",
    "#             'parameters': model_parameters,\n",
    "#             'range': x_range,\n",
    "#         },\n",
    "        {\n",
    "            'type': 'band',\n",
    "            'x': x_range,\n",
    "            'y': [res - res_err, res + res_err],\n",
    "            'label': 'Expected value',\n",
    "        }\n",
    "    ]\n",
    "}\n",
    "eos.plot.Plotter(plot_args).plot()\n",
    "print(build_time())"
   ]
  },
  {
   "cell_type": "markdown",
   "metadata": {},
   "source": [
    "### $q^2$ dependence"
   ]
  },
  {
   "cell_type": "code",
   "execution_count": 4,
   "metadata": {},
   "outputs": [
    {
     "data": {
      "image/png": "[encoded data removed]",
      "text/plain": [
       "<Figure size 432x288 with 1 Axes>"
      ]
     },
     "metadata": {},
     "output_type": "display_data"
    },
    {
     "name": "stdout",
     "output_type": "stream",
     "text": [
      "eos built at Sat Feb 13 19:30:19 2021\n"
     ]
    }
   ],
   "source": [
    "res = 1.869**2\n",
    "res_err = 10 / 100 * res\n",
    "\n",
    "x_range = [-15, 0]\n",
    "plot_args = {\n",
    "    'plot': {\n",
    "        'x': { 'label': r'$\\omega_0$', 'unit': r'$\\textnormal{GeV}$', 'range': x_range, 'format': '${x:.1f}$'},\n",
    "        'y': { 'label': r'$s^1/s^0$', 'range': [-1,  4] },\n",
    "        'legend': { 'location': 'lower right' }\n",
    "    },\n",
    "    'contents': [\n",
    "        {\n",
    "            'type': 'observable',\n",
    "            'observable': 'B_c->D::f_+[s^1/s^0](q2);3pt=off,2pt=tw2+3',\n",
    "            'kinematic': 'q2',\n",
    "            'range': x_range,\n",
    "            'parameters': model_parameters,\n",
    "        },\n",
    "        {\n",
    "            'type': 'observable',\n",
    "            'observable': 'B_c->D::f_0[s^1/s^0](q2);3pt=off,2pt=tw2+3',\n",
    "            'kinematic': 'q2',\n",
    "            'range': x_range,\n",
    "            'parameters': model_parameters,\n",
    "        },\n",
    "        {\n",
    "            'type': 'band',\n",
    "            'x': x_range,\n",
    "            'y': [res - res_err, res + res_err],\n",
    "            'label': 'Expected value',\n",
    "        }\n",
    "    ]\n",
    "}\n",
    "eos.plot.Plotter(plot_args).plot()\n",
    "print(build_time())"
   ]
  },
  {
   "cell_type": "markdown",
   "metadata": {},
   "source": [
    "### Threshold parameter?"
   ]
  },
  {
   "cell_type": "code",
   "execution_count": 5,
   "metadata": {},
   "outputs": [
    {
     "data": {
      "image/png": "[encoded data removed]",
      "text/plain": [
       "<Figure size 432x288 with 1 Axes>"
      ]
     },
     "metadata": {},
     "output_type": "display_data"
    }
   ],
   "source": [
    "res = 1.869**2\n",
    "res_err = 10 / 100 * res\n",
    "\n",
    "temp_params = model_parameters\n",
    "temp_params.update({'B_c::omega_1_plus': 2.0})\n",
    "\n",
    "x_range = [0.1, 10]\n",
    "plot_args = {\n",
    "    'plot': {\n",
    "        'x': { 'label': r'$s_0$', 'unit': r'$\\textnormal{GeV}$', 'range': x_range, 'format': '${x:.1f}$'},\n",
    "        'y': { 'label': r'$s^1/s^0$', 'range': [-1,  5] },\n",
    "        'legend': { 'location': 'lower right' }\n",
    "    },\n",
    "    'contents': [\n",
    "        {\n",
    "            'label': r'$s_1/s_0$, $B_c\\to D$, $f_+$, pos. solution',\n",
    "            'type': 'observable',\n",
    "            'observable': 'B_c->D::f_+[s^1/s^0](q2);solution=+',\n",
    "            'kinematics': {'q2': 0},\n",
    "            'parameter': 'B_c->D::s_0^+,0@B-LCSR',\n",
    "            'parameters': temp_params,\n",
    "            'range': x_range,\n",
    "        },\n",
    "        {\n",
    "            'type': 'band',\n",
    "            'x': x_range,\n",
    "            'y': [res - res_err, res + res_err],\n",
    "            'label': 'Expected value',\n",
    "        }\n",
    "    ]\n",
    "}\n",
    "eos.plot.Plotter(plot_args).plot()"
   ]
  },
  {
   "cell_type": "markdown",
   "metadata": {},
   "source": [
    "#### Observe:\n",
    " * $f_+$: $\\omega_0 \\overset{!}{>} 1.8$"
   ]
  },
  {
   "cell_type": "markdown",
   "metadata": {},
   "source": [
    "### Borel parameter?"
   ]
  },
  {
   "cell_type": "code",
   "execution_count": 6,
   "metadata": {},
   "outputs": [
    {
     "data": {
      "image/png": "[encoded data removed]",
      "text/plain": [
       "<Figure size 432x288 with 1 Axes>"
      ]
     },
     "metadata": {},
     "output_type": "display_data"
    }
   ],
   "source": [
    "x_range = [0.5, 10]\n",
    "plot_args = {\n",
    "    'plot': {\n",
    "        'x': { 'label': r'$M^2$', 'unit': r'$\\textnormal{GeV}^2$', 'range': x_range},\n",
    "        'y': { 'label': r'$m_D^2$', 'range': [0,  6] },\n",
    "        'legend': { 'location': 'upper center' }\n",
    "    },\n",
    "    'contents': [\n",
    "        {\n",
    "            'label': r'$f+$, $B_c\\to D$',\n",
    "            'type': 'observable',\n",
    "            'observable': 'B_c->D::f_+[s^1/s^0](q2);solution=+',\n",
    "            'parameter': 'B_c->D::M^2@B-LCSR',\n",
    "            'kinematics': {'q2': 0},\n",
    "#             'parameters': model_parameters,\n",
    "            'range': x_range,\n",
    "        },\n",
    "        {\n",
    "            'type': 'band',\n",
    "            'x': x_range,\n",
    "            'y': [3.25, 3.65],\n",
    "            'label': 'Expected value'\n",
    "        }\n",
    "    ]\n",
    "}\n",
    "eos.plot.Plotter(plot_args).plot()"
   ]
  },
  {
   "cell_type": "markdown",
   "metadata": {},
   "source": [
    "## Statistical analysis\n",
    "\n",
    "* **make s_0 independent!**\n",
    "* f_+ and f_0 mass pred for likelihood\n",
    "* prior: N0 = 1.75+0.5, omega_0 = 1.65GeV+-200MeV, Borel: M2=4.5+-1.5GeV2, s0: 6+-3GeV^2\n",
    "* q2 = -5, 0, 5GeV^2"
   ]
  },
  {
   "cell_type": "code",
   "execution_count": 7,
   "metadata": {
    "scrolled": false
   },
   "outputs": [
    {
     "name": "stderr",
     "output_type": "stream",
     "text": [
      "100%|██████████| 100/100 [00:06<00:00, 15.68it/s]\n"
     ]
    },
    {
     "data": {
      "text/html": [
       "<table>\n",
       "<tr><th>parameter</th><th>value</th></tr>\n",
       "<tr><td>B_c->D::M^2@B-LCSR</td><td>8.0000</td></tr><tr><td>B_c->D::s_0^+,0@B-LCSR</td><td>3.6264</td></tr><tr><td>B_c::omega_1_plus</td><td>2.7000</td></tr><tr><td>B_c::delta_N</td><td>1.1832</td></tr></table>"
      ],
      "text/plain": [
       "<eos.analysis.BestFitPoint at 0x7f4ca9125828>"
      ]
     },
     "metadata": {},
     "output_type": "display_data"
    },
    {
     "data": {
      "text/html": [
       "<table>\n",
       "<tr><th>constraint</th><th>&chi;<sup>2</sup></th><th>d.o.f.</th></tr>\n",
       "<tr><td><tt>B_c->D::f_+[s^1/s^0]@-0-0GeV2</tt></td><td>0.0376</td><td>1</td></tr>\n",
       "<tr><td><tt>B_c->D::f_+[s^1/s^0]@-10-0GeV2</tt></td><td>3.1971</td><td>1</td></tr>\n",
       "<tr><td><tt>B_c->D::f_+[s^1/s^0]@-2-5GeV2</tt></td><td>0.0119</td><td>1</td></tr>\n",
       "<tr><td><tt>B_c->D::f_+[s^1/s^0]@-5-0GeV2</tt></td><td>0.2759</td><td>1</td></tr>\n",
       "<tr><td><tt>B_c->D::f_+[s^1/s^0]@-7-5GeV2</tt></td><td>1.1530</td><td>1</td></tr>\n",
       "</table><br/>\n",
       "<table>\n",
       "<tr><th>total &chi;<sup>2</sup></th><td>4.6755</td></tr>\n",
       "<tr><th>total degrees of freedom</th><td>3</td></tr>\n",
       "<tr><th>p-value</th><td>19.7158%</td></tr>\n",
       "</table>\n"
      ],
      "text/plain": [
       "<_eos.GoodnessOfFit at 0x7f4ca9037b20>"
      ]
     },
     "metadata": {},
     "output_type": "display_data"
    }
   ],
   "source": [
    "obss ={\n",
    "    'B_c->D::f_+[s^1/s^0](q2);solution=+',\n",
    "#     'B_c->D::f_0[s^1/s^0](q2);solution=+',\n",
    "}\n",
    "\n",
    "res = 1.869**2\n",
    "res_err = 10 / 100 * res\n",
    "\n",
    "manual_constraints = {}\n",
    "for obs in obss:\n",
    "    for q2 in [-10.0, -7.5, -5.0, -2.5, -0.0]:\n",
    "        name = (\n",
    "            obs.split(\";\")[0][:-4]+\"@\"+\n",
    "            str(q2).replace('.', '-')+\"GeV2\"\n",
    "        )\n",
    "        constr = {\n",
    "            name: {\n",
    "                'observable': obs,\n",
    "                'kinematics': {'q2': q2},\n",
    "                'mean': res,\n",
    "                'sigma-stat': {'hi': 0, 'lo': 0},\n",
    "                'sigma-sys': {'hi': res_err, 'lo': res_err},\n",
    "                'dof': 1,\n",
    "                'type': 'Gaussian',\n",
    "                'options': {}\n",
    "                }\n",
    "            }\n",
    "        manual_constraints.update(constr)\n",
    "\n",
    "analysis_args = {\n",
    "    'likelihood': [],\n",
    "    'manual_constraints': manual_constraints,\n",
    "    'priors': [\n",
    "        { 'parameter': 'B_c->D::M^2@B-LCSR',       'min':  3.0,   'max': 8.0,       'type': 'uniform'},\n",
    "        { 'parameter': 'B_c->D::s_0^+,0@B-LCSR',   'min':  2,     'max': 12,        'type': 'uniform'},\n",
    "#         { 'parameter': 'B_c->D::s_0^+/-,0@B-LCSR', 'min':  2,     'max': 12,        'type': 'uniform'},\n",
    "        # gaussian: central, sigma\n",
    "        { 'parameter': 'B_c::omega_1_plus',        'min':  0.8,   'max': 2.7,       'type': 'gaussian',\n",
    "          'central': 1.71, 'sigma':  0.3},\n",
    "        { 'parameter': 'B_c::delta_N',             'min':  0.0,   'max': 1.2,       'type': 'gaussian',\n",
    "          'central': 0.52, 'sigma': 0.2},\n",
    "    ],\n",
    "}\n",
    "\n",
    "analysis = eos.Analysis(**analysis_args)\n",
    "\n",
    "# analysis.sample(preruns = 10, pre_N = 200, N = 1000, stride = 1)\n",
    "analysis.sample(preruns = 10, pre_N = 300, N = 1000, stride = 1)\n",
    "\n",
    "bfp = analysis.optimize()\n",
    "display(bfp)\n",
    "display(analysis.goodness_of_fit())"
   ]
  },
  {
   "cell_type": "markdown",
   "metadata": {},
   "source": [
    "[ ] Adapte the code for B_c->D*\n",
    "\n",
    "[ ] Produce series of analysis including a single ff for the following:\n",
    "    [ ] f_+, V (D* VFF), A1, opt. f_+-, A12\n",
    "    [ ] Float threshold and Borel param. uniformly, same Gaussian for oemga_1_plus and delta_N"
   ]
  },
  {
   "cell_type": "code",
   "execution_count": null,
   "metadata": {},
   "outputs": [],
   "source": [
    "obss ={\n",
    "    'B_c->D::f_+[s^1/s^0](q2);solution=+',\n",
    "#     'B_c->D::f_0[s^1/s^0](q2);solution=+',\n",
    "}\n",
    "\n",
    "res = 1.869**2\n",
    "res_err = 10 / 100 * res\n",
    "\n",
    "manual_constraints = {}\n",
    "for obs in obss:\n",
    "    for q2 in [-10.0, -7.5, -5.0, -2.5, -0.0]:\n",
    "        name = (\n",
    "            obs.split(\";\")[0][:-4]+\"@\"+\n",
    "            str(q2).replace('.', '-')+\"GeV2\"\n",
    "        )\n",
    "        constr = {\n",
    "            name: {\n",
    "                'observable': obs,\n",
    "                'kinematics': {'q2': q2},\n",
    "                'mean': res,\n",
    "                'sigma-stat': {'hi': 0, 'lo': 0},\n",
    "                'sigma-sys': {'hi': res_err, 'lo': res_err},\n",
    "                'dof': 1,\n",
    "                'type': 'Gaussian',\n",
    "                'options': {}\n",
    "                }\n",
    "            }\n",
    "        manual_constraints.update(constr)\n",
    "\n",
    "analysis_args = {\n",
    "    'likelihood': [],\n",
    "    'manual_constraints': manual_constraints,\n",
    "    'priors': [\n",
    "        { 'parameter': 'B_c->D::M^2@B-LCSR',       'min':  3.0,   'max': 8.0,       'type': 'uniform'},\n",
    "        { 'parameter': 'B_c->D::s_0^+,0@B-LCSR',   'min':  2,     'max': 12,        'type': 'uniform'},\n",
    "#         { 'parameter': 'B_c->D::s_0^+/-,0@B-LCSR', 'min':  2,     'max': 12,        'type': 'uniform'},\n",
    "        # gaussian: central, sigma\n",
    "        { 'parameter': 'B_c::omega_1_plus',        'min':  0.8,   'max': 2.7,       'type': 'gaussian',\n",
    "          'central': 1.71, 'sigma':  0.3},\n",
    "        { 'parameter': 'B_c::delta_N',             'min':  0.0,   'max': 1.2,       'type': 'gaussian',\n",
    "          'central': 0.52, 'sigma': 0.2},\n",
    "    ],\n",
    "}\n",
    "\n",
    "analysis = eos.Analysis(**analysis_args)\n",
    "\n",
    "# analysis.sample(preruns = 10, pre_N = 200, N = 1000, stride = 1)\n",
    "analysis.sample(preruns = 10, pre_N = 300, N = 1000, stride = 1)\n",
    "\n",
    "bfp = analysis.optimize()\n",
    "display(bfp)\n",
    "display(analysis.goodness_of_fit())"
   ]
  }
 ],
 "metadata": {
  "kernelspec": {
   "display_name": "Python 3",
   "language": "python",
   "name": "python3"
  },
  "language_info": {
   "codemirror_mode": {
    "name": "ipython",
    "version": 3
   },
   "file_extension": ".py",
   "mimetype": "text/x-python",
   "name": "python",
   "nbconvert_exporter": "python",
   "pygments_lexer": "ipython3",
   "version": "3.6.9"
  }
 },
 "nbformat": 4,
 "nbformat_minor": 4
}
