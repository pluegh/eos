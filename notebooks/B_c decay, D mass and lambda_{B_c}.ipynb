{
 "cells": [
  {
   "cell_type": "markdown",
   "metadata": {},
   "source": [
    "To do\n",
    "\n",
    "set lambda_E/H to zero"
   ]
  },
  {
   "cell_type": "code",
   "execution_count": 1,
   "metadata": {},
   "outputs": [
    {
     "data": {
      "text/plain": [
       "'eos built at Fri Dec  4 14:19:04 2020'"
      ]
     },
     "execution_count": 1,
     "metadata": {},
     "output_type": "execute_result"
    }
   ],
   "source": [
    "import eos\n",
    "import numpy as np\n",
    "\n",
    "import os\n",
    "import time\n",
    "def build_time():\n",
    "    return \"eos built at \" + time.ctime(os.path.getmtime(eos.__file__))\n",
    "\n",
    "build_time()"
   ]
  },
  {
   "cell_type": "code",
   "execution_count": 2,
   "metadata": {},
   "outputs": [
    {
     "data": {
      "text/html": [
       "<table>\n",
       "  <tr><th style=\"text-align:left\" colspan=2><big>Form factors</big></th></tr>\n",
       "    <tr><th style=\"text-align:left\" colspan=2>Form factors for $B_c\\to D$ transitions</th></tr>\n",
       "      <tr><th><tt style=\"color:grey\">B_c->D::f_+(q2)</tt></th><td style=\"text-align:left\">$$f_+^{B_c\\to D}(q^2)$$</td></tr>      <tr><th><tt style=\"color:grey\">B_c->D::f_+[s^1/s^0](q2)</tt></th><td style=\"text-align:left\">$$$$</td></tr>      <tr><th><tt style=\"color:grey\">B_c->D::f_-(q2)</tt></th><td style=\"text-align:left\">$$f_-^{B_c\\to D}(q^2)$$</td></tr>      <tr><th><tt style=\"color:grey\">B_c->D::f_0(q2)</tt></th><td style=\"text-align:left\">$$f_0^{B_c\\to D}(q^2)$$</td></tr>      <tr><th><tt style=\"color:grey\">B_c->D::f_0[s^1/s^0](q2)</tt></th><td style=\"text-align:left\">$$$$</td></tr>      <tr><th><tt style=\"color:grey\">B_c->D::f_T(q2)</tt></th><td style=\"text-align:left\">$$f_T^{B_c\\to D}(q^2)$$</td></tr>      <tr><th><tt style=\"color:grey\">B_c->D::f_T[s^1/s^0](q2)</tt></th><td style=\"text-align:left\">$$$$</td></tr>    <tr><td style=\"text-align:left\" colspan=2>Pseudo observables representing the full basis of $B_c\\to D$ form factors. The specific parametrization can be chosen via the \"form-factors\" option.</td></tr>\n",
       "</table>"
      ],
      "text/plain": [
       "<eos.observable.Observables at 0x11b819030>"
      ]
     },
     "execution_count": 2,
     "metadata": {},
     "output_type": "execute_result"
    }
   ],
   "source": [
    "eos.Observables(prefix='B_c', showall=True)"
   ]
  },
  {
   "cell_type": "markdown",
   "metadata": {},
   "source": [
    "## To do\n",
    "\n",
    "plot \n",
    "`B_c->D::f_+[s^1/s^0](q2)`\n",
    "fuer festes q2, aber als Funktion von 1/lambda_{B_c}\n",
    "\n",
    "und plot\n",
    "als festes 1/lambda_{B_c}^2 als Fkt vom q2"
   ]
  },
  {
   "cell_type": "markdown",
   "metadata": {},
   "source": [
    "## Plot $m_D^2$ vs $\\lambda_B^{-1}$, fix $q^2 = 0$"
   ]
  },
  {
   "cell_type": "code",
   "execution_count": 3,
   "metadata": {
    "scrolled": true
   },
   "outputs": [
    {
     "name": "stderr",
     "output_type": "stream",
     "text": [
      "findfont: Font family ['serif'] not found. Falling back to DejaVu Sans.\n"
     ]
    },
    {
     "data": {
      "image/png": "[encoded data removed]",
      "text/plain": [
       "<Figure size 432x288 with 1 Axes>"
      ]
     },
     "metadata": {
      "needs_background": "light"
     },
     "output_type": "display_data"
    },
    {
     "name": "stdout",
     "output_type": "stream",
     "text": [
      "eos built at Fri Dec  4 14:19:04 2020\n"
     ]
    }
   ],
   "source": [
    "x_range = [0.001, 2]\n",
    "plot_args = {\n",
    "    'plot': {\n",
    "        'x': { 'label': r'$\\lambda_{B_c}^{-1}$', 'unit': r'$\\textnormal{GeV}^2$', 'range': x_range },\n",
    "        'y': { 'label': r'$m_D^2$', 'range': [-4,  4] },\n",
    "        'legend': { 'location': 'upper center' }\n",
    "    },\n",
    "    'contents': [\n",
    "        {\n",
    "            'label': r'$s_1/s_0$',\n",
    "            'type': 'observable',\n",
    "            # y-value:\n",
    "            'observable': 'B_c->D::f_+[s^1/s^0](q2);3pt=off,2pt=tw2+3',\n",
    "            'kinematics': {'q2': 0.0},\n",
    "            # x-value:\n",
    "            'parameter': 'B_c::1/lambda_B_p',\n",
    "            'parameters': {\n",
    "                'B_c->D::s_0^+,0@B-LCSR': 2,\n",
    "                'B_c->D::M^2@B-LCSR': 2\n",
    "            },\n",
    "            'range': x_range,\n",
    "        },\n",
    "        {\n",
    "            'type': 'band',\n",
    "            'x': x_range,\n",
    "            'y': [3.25, 3.65],\n",
    "            'label': 'Expected value'\n",
    "        }\n",
    "    ]\n",
    "}\n",
    "eos.plot.Plotter(plot_args).plot()\n",
    "print(build_time())\n",
    "\n",
    "# Use 2pt=tw2+3 in order to exclude lambda_E, lambda_H contributions (unknown so far)"
   ]
  },
  {
   "cell_type": "code",
   "execution_count": 4,
   "metadata": {},
   "outputs": [
    {
     "data": {
      "image/png": "[encoded data removed]",
      "text/plain": [
       "<Figure size 432x288 with 1 Axes>"
      ]
     },
     "metadata": {
      "needs_background": "light"
     },
     "output_type": "display_data"
    },
    {
     "name": "stdout",
     "output_type": "stream",
     "text": [
      "eos built at Fri Dec  4 14:19:04 2020\n"
     ]
    }
   ],
   "source": [
    "x_range = [0.001, 0.5]\n",
    "plot_args = {\n",
    "    'plot': {\n",
    "        'x': { 'label': r'$\\lambda_{B_c}^{-1}$', 'unit': r'$\\textnormal{GeV}^2$', 'range': x_range },\n",
    "        'y': { 'label': r'$m_D^2$', 'range': [-1/2,  1/2] },\n",
    "        'legend': { 'location': 'upper center' }\n",
    "    },\n",
    "    'contents': [\n",
    "        {\n",
    "            'label': r'$s_1/s_0$',\n",
    "            'type': 'observable',\n",
    "            # y-value:\n",
    "            'observable': 'B_c->D::f_+(q2);3pt=off,2pt=tw2+3,form-factors=B-LCSR',\n",
    "            'kinematics': {'q2': 0.0},\n",
    "            # x-value:\n",
    "            'parameter': 'B_c::1/lambda_B_p',\n",
    "            'parameters': {\n",
    "                'B_c->D::s_0^+,0@B-LCSR': 2,\n",
    "                'B_c->D::M^2@B-LCSR': 2\n",
    "            },\n",
    "            'range': x_range,\n",
    "        },\n",
    "        {\n",
    "            'type': 'band',\n",
    "            'x': x_range,\n",
    "            'y': [3.25, 3.65],\n",
    "            'label': 'Expected value'\n",
    "        }\n",
    "    ]\n",
    "}\n",
    "eos.plot.Plotter(plot_args).plot()\n",
    "print(build_time())\n",
    "\n",
    "# Only a small window, where the involved form factors are positive.\n",
    "# Zero-crossing here inidicates the pole in the above plot"
   ]
  },
  {
   "cell_type": "raw",
   "metadata": {},
   "source": [
    "## Plot $m_D^2$ vs $s_0$ (threshold parameter), fix $q^2 = 0$, $\\lambda_B^{-1}$"
   ]
  },
  {
   "cell_type": "code",
   "execution_count": 5,
   "metadata": {},
   "outputs": [
    {
     "data": {
      "image/png": "[encoded data removed]",
      "text/plain": [
       "<Figure size 432x288 with 1 Axes>"
      ]
     },
     "metadata": {
      "needs_background": "light"
     },
     "output_type": "display_data"
    }
   ],
   "source": [
    "x_range = [0.5, 20]\n",
    "plot_args = {\n",
    "    'plot': {\n",
    "        'x': { 'label': r'$s_0$', 'unit': r'$\\textnormal{GeV}$', 'range': x_range},\n",
    "        'y': { 'label': r'$m_D^2$', 'range': [0,  4] },\n",
    "        'legend': { 'location': 'upper center' }\n",
    "    },\n",
    "    'contents': [\n",
    "        {\n",
    "            'label': r'$s_1/s_0$',\n",
    "            'type': 'observable',\n",
    "            'observable': 'B_c->D::f_+[s^1/s^0](q2);3pt=off,2pt=tw2+3',\n",
    "            'parameter': 'B_c->D::s_0^+,0@B-LCSR',\n",
    "            'kinematics': {'q2': 0.0},\n",
    "            'parameters': {'B_c::1/lambda_B_p': 0.3, 'B_c->D::M^2@B-LCSR': 10},\n",
    "            'range': x_range,\n",
    "        },\n",
    "        {\n",
    "            'type': 'band',\n",
    "            'x': x_range,\n",
    "            'y': [3.25, 3.65],\n",
    "            'label': 'Expected value'\n",
    "        }\n",
    "    ]\n",
    "}\n",
    "eos.plot.Plotter(plot_args).plot()"
   ]
  },
  {
   "cell_type": "code",
   "execution_count": 6,
   "metadata": {},
   "outputs": [
    {
     "data": {
      "image/png": "[encoded data removed]",
      "text/plain": [
       "<Figure size 432x288 with 1 Axes>"
      ]
     },
     "metadata": {
      "needs_background": "light"
     },
     "output_type": "display_data"
    }
   ],
   "source": [
    "x_range = [0.5, 100]\n",
    "plot_args = {\n",
    "    'plot': {\n",
    "        'x': { 'label': r'$M^2$', 'unit': r'$\\textnormal{GeV}^2$', 'range': x_range},\n",
    "        'y': { 'label': r'$m_D^2$', 'range': [0,  4] },\n",
    "        'legend': { 'location': 'upper center' }\n",
    "    },\n",
    "    'contents': [\n",
    "        {\n",
    "            'label': r'$s^1/s^0$',\n",
    "            'type': 'observable',\n",
    "            'observable': 'B_c->D::f_+[s^1/s^0](q2);3pt=off,2pt=tw2+3',\n",
    "            # The Borel parameter:\n",
    "            'parameter': 'B_c->D::M^2@B-LCSR',\n",
    "            'kinematics': {'q2': 0.0},\n",
    "            'parameters': {'B_c::1/lambda_B_p': 0.3, 'B_c->D::s_0^+,0@B-LCSR': 2.5},\n",
    "            'range': x_range,\n",
    "        },\n",
    "        {\n",
    "            'type': 'band',\n",
    "            'x': x_range,\n",
    "            'y': [3.25, 3.65],\n",
    "            'label': 'Expected value'\n",
    "        }\n",
    "    ]\n",
    "}\n",
    "eos.plot.Plotter(plot_args).plot()"
   ]
  },
  {
   "cell_type": "code",
   "execution_count": 12,
   "metadata": {},
   "outputs": [
    {
     "data": {
      "text/html": [
       "<table>\n",
       "<tr><th>parameter</th><th>value</th></tr>\n",
       "<tr><td>B_c::1/lambda_B_p</td><td>0.1753</td></tr><tr><td>B_c->D::s_0^+,0@B-LCSR</td><td>1.1842</td></tr><tr><td>B_c->D::M^2@B-LCSR</td><td>0.8750</td></tr></table>"
      ],
      "text/plain": [
       "<eos.analysis.BestFitPoint at 0x11ba67ca0>"
      ]
     },
     "metadata": {},
     "output_type": "display_data"
    },
    {
     "data": {
      "text/html": [
       "<table>\n",
       "<tr><th>constraint</th><th>&chi;<sup>2</sup></th><th>d.o.f.</th></tr>\n",
       "<tr><td><tt>B_c->D::f_+[s^1/s^0]@0GeV2</tt></td><td>0.0000</td><td>1</td></tr>\n",
       "</table><br/>\n",
       "<table>\n",
       "<tr><th>total &chi;<sup>2</sup></th><td>0.0000</td></tr>\n",
       "<tr><th>total degrees of freedom</th><td>-2</td></tr>\n",
       "<tr><th>p-value</th><td>   nan%</td></tr>\n",
       "</table>\n"
      ],
      "text/plain": [
       "<_eos.GoodnessOfFit at 0x11b8c3070>"
      ]
     },
     "metadata": {},
     "output_type": "display_data"
    }
   ],
   "source": [
    "analysis_args = {\n",
    "    'global_options': {  },\n",
    "    'priors': [\n",
    "        # Form factors suggest:\n",
    "        { 'parameter': 'B_c::1/lambda_B_p',        'min':  0.1,   'max':  1.0      , 'type': 'uniform'},\n",
    "        { 'parameter': 'B_c->D::s_0^+,0@B-LCSR',   'min':  1.0,   'max':  6.0      , 'type': 'uniform'},\n",
    "        # Prev. LCDA SR calcucation with u-quark:\n",
    "        { 'parameter': 'B_c->D::M^2@B-LCSR',       'min':  0.5,   'max':  1.5      , 'type': 'uniform'},\n",
    "    ],\n",
    "    'likelihood': [],\n",
    "    'manual_constraints': {\n",
    "        'B_c->D::f_+[s^1/s^0]@0GeV2': {\n",
    "            'observable': 'B_c->D::f_+[s^1/s^0](q2);3pt=off,2pt=tw2+3',\n",
    "            'kinematics': {'q2': -10.0},\n",
    "            'mean': 3.5,\n",
    "            'sigma-stat': {'hi': 0, 'lo': 0},\n",
    "            'sigma-sys': {'hi': 0.2, 'lo': 0.2},\n",
    "            'dof': 1,\n",
    "            'type': 'Gaussian',\n",
    "            'options': {'rescale-factor': 0}\n",
    "        }\n",
    "    }\n",
    "}\n",
    "\n",
    "analysis = eos.Analysis(**analysis_args)\n",
    "analysis.parameters['B_c::1/lambda_B_p'].set(0.8)\n",
    "\n",
    "# run analysis\n",
    "bfp = analysis.optimize()\n",
    "display(bfp)\n",
    "display(analysis.goodness_of_fit())\n",
    "\n",
    "# to do:\n",
    "# Add more manual constraints at different q2 (2 or 3 values, -10, -5, 0) per ff f_0, f_+\n",
    "# -> Does a consistent value of lambda exists (for now in the same decay) ==> Can also describe D* decays?\n",
    "# 1.) Add constraints, make a fit\n",
    "# 2.) Marcov Chains"
   ]
  },
  {
   "cell_type": "code",
   "execution_count": null,
   "metadata": {},
   "outputs": [],
   "source": []
  }
 ],
 "metadata": {
  "kernelspec": {
   "display_name": "Python 3",
   "language": "python",
   "name": "python3"
  },
  "language_info": {
   "codemirror_mode": {
    "name": "ipython",
    "version": 3
   },
   "file_extension": ".py",
   "mimetype": "text/x-python",
   "name": "python",
   "nbconvert_exporter": "python",
   "pygments_lexer": "ipython3",
   "version": "3.9.0"
  }
 },
 "nbformat": 4,
 "nbformat_minor": 4
}
